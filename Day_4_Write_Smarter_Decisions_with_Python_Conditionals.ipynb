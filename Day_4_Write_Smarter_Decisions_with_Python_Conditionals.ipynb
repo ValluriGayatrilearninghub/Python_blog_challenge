{
  "nbformat": 4,
  "nbformat_minor": 0,
  "metadata": {
    "colab": {
      "provenance": []
    },
    "kernelspec": {
      "name": "python3",
      "display_name": "Python 3"
    },
    "language_info": {
      "name": "python"
    }
  },
  "cells": [
    {
      "cell_type": "code",
      "execution_count": 2,
      "metadata": {
        "colab": {
          "base_uri": "https://localhost:8080/"
        },
        "id": "mOn6xFyo24Ni",
        "outputId": "40c88a92-3d73-45fc-d554-28086257d97c"
      },
      "outputs": [
        {
          "output_type": "stream",
          "name": "stdout",
          "text": [
            "You are an adult!\n"
          ]
        }
      ],
      "source": [
        "#Day 4: Write Smarter Decisions with Python Conditionals\n",
        "# 1. The Basics — if, elif, else\n",
        "age = 18\n",
        "if age >=18:\n",
        "  print(\"You are an adult!\")\n",
        "elif age >= 13:\n",
        "  print(\"You are a teenager!\")\n",
        "else :\n",
        "  print(\"You are a child!\")\n"
      ]
    },
    {
      "cell_type": "code",
      "source": [
        "# 2. Nested Conditionals (if inside if)\n",
        "score =80\n",
        "if score >=50:\n",
        "  if score >=90:\n",
        "    print(\"Grade A+\")\n",
        "  else :\n",
        "    print(\"Pass\")\n",
        "else :\n",
        "  print(\"Fail\")\n",
        "print(\"-\"*40) # Prints a line of 40 dashes to separate sections in the output\n"
      ],
      "metadata": {
        "colab": {
          "base_uri": "https://localhost:8080/"
        },
        "id": "ty3EBEUm3laD",
        "outputId": "9d2a151a-2d55-4b5a-f826-aa121fbfc844"
      },
      "execution_count": 3,
      "outputs": [
        {
          "output_type": "stream",
          "name": "stdout",
          "text": [
            "Pass\n",
            "----------------------------------------\n"
          ]
        }
      ]
    },
    {
      "cell_type": "code",
      "source": [
        "# 3. Combining Conditions with and, or, not\n",
        "age = 25\n",
        "has_ticket = True\n",
        "if age >=18 and has_ticket :\n",
        "   print(\"You can enter the concert!\")\n",
        "print(\"*\"*30)\n"
      ],
      "metadata": {
        "colab": {
          "base_uri": "https://localhost:8080/"
        },
        "id": "0vv1Q-Yv4ePB",
        "outputId": "5ef72cf8-776b-4c48-fb4e-c2695f1230d2"
      },
      "execution_count": 5,
      "outputs": [
        {
          "output_type": "stream",
          "name": "stdout",
          "text": [
            "You can enter the concert!\n",
            "******************************\n"
          ]
        }
      ]
    },
    {
      "cell_type": "code",
      "source": [
        "# 4. Short Form — Ternary Conditional Expression\n",
        "age = 16\n",
        "if age >= 18:\n",
        "    status = \"Adult\"\n",
        "else:\n",
        "    status = \"Minor\"\n",
        "# this can be written as\n",
        "status =\"Adult\" if age>16 else \"Minor\"\n",
        "print(f\"Status of the person {status}\") # print(\"Status of the person \" + status)\n",
        "print(\"-\"*40)"
      ],
      "metadata": {
        "colab": {
          "base_uri": "https://localhost:8080/"
        },
        "id": "qkTwI0qj5Dd3",
        "outputId": "ad237758-bfe0-4faf-d952-f1e1419f9bed"
      },
      "execution_count": 9,
      "outputs": [
        {
          "output_type": "stream",
          "name": "stdout",
          "text": [
            "Status of the person Minor\n",
            "----------------------------------------\n"
          ]
        }
      ]
    },
    {
      "cell_type": "code",
      "source": [
        "#5. Advanced: match-case (Python 3.10+)\n",
        "command =\"start\"\n",
        "match command :\n",
        "  case \"start\" :\n",
        "    print(\"System is starting\")\n",
        "  case \"stop\" :\n",
        "    print(\"System is stopping\")\n",
        "  case _ :\n",
        "    print(\"Unknown command\")\n",
        "\n"
      ],
      "metadata": {
        "colab": {
          "base_uri": "https://localhost:8080/"
        },
        "id": "VuMEDk2h6-Mo",
        "outputId": "dd647f20-ac0c-471b-af0d-d70ef8dd8f47"
      },
      "execution_count": 13,
      "outputs": [
        {
          "output_type": "stream",
          "name": "stdout",
          "text": [
            "System is starting\n"
          ]
        }
      ]
    },
    {
      "cell_type": "code",
      "source": [
        "# 6. Using Boolean Variables for Cleaner Code\n",
        "is_vip = True\n",
        "has_ticket = False\n",
        "\n",
        "if is_vip or has_ticket:\n",
        "    print(\"Access granted\")\n",
        "\n",
        "print(\"-\" * 40)"
      ],
      "metadata": {
        "colab": {
          "base_uri": "https://localhost:8080/"
        },
        "id": "ZusPOyNh8LG4",
        "outputId": "88e1065c-c544-4be0-c4cb-ee6186869774"
      },
      "execution_count": 14,
      "outputs": [
        {
          "output_type": "stream",
          "name": "stdout",
          "text": [
            "Access granted\n",
            "----------------------------------------\n"
          ]
        }
      ]
    },
    {
      "cell_type": "code",
      "source": [
        "# Challenge: Python Weather Wizard 🌦️\n",
        "weather = input(\"Enter the weather (sunny/rainy/snowy/windy):\").strip().lower # .strip() → remove extra spaces at the start and end,\"   hello world   \".strip() gives hello world .lower() → everything lowercase , .upper  → everything uppercase , .title() → first letter of each word uppercase\n",
        "if weather ==\"sunny\" :\n",
        "  print(\"Perfect day for sunglasses and ice cream!\")\n",
        "elif weather == \"rainy\":\n",
        "    print(\"Grab an umbrella and watch out for puddles.\")\n",
        "elif weather == \"snowy\":\n",
        "    print(\"Time for a cozy blanket and hot chocolate.\")\n",
        "elif weather == \"windy\":\n",
        "    print(\"Hold onto your hat — it's blustery out there!\")\n",
        "else:\n",
        "    print(\"Hmm... I'm not sure about that weather!\")\n",
        "\n",
        "# Bonus: Extra mini-decision with ternary conditional\n",
        "try:\n",
        "    temp = float(input(\"Enter the temperature in °C: \"))\n",
        "    jacket_advice = \"Take a jacket\" if temp < 20 else \"No jacket needed!\"\n",
        "    print(jacket_advice)\n",
        "except ValueError:\n",
        "    print(\"Invalid temperature input.\")\n"
      ],
      "metadata": {
        "colab": {
          "base_uri": "https://localhost:8080/"
        },
        "id": "ac4tidgV8Rzt",
        "outputId": "d2985af9-faf0-4164-ef94-b51a3d31b8ce"
      },
      "execution_count": 17,
      "outputs": [
        {
          "output_type": "stream",
          "name": "stdout",
          "text": [
            "Enter the weather (sunny/rainy/snowy/windy):RAINY\n",
            "Hmm... I'm not sure about that weather!\n",
            "Enter the temperature in °C: 24\n",
            "No jacket needed!\n"
          ]
        }
      ]
    }
  ]
}