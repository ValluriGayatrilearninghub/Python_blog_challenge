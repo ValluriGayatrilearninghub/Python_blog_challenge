{
  "nbformat": 4,
  "nbformat_minor": 0,
  "metadata": {
    "colab": {
      "provenance": []
    },
    "kernelspec": {
      "name": "python3",
      "display_name": "Python 3"
    },
    "language_info": {
      "name": "python"
    }
  },
  "cells": [
    {
      "cell_type": "code",
      "execution_count": 1,
      "metadata": {
        "id": "Aaz0u_8taesR"
      },
      "outputs": [],
      "source": [
        "name = \"Gayatri\"\n",
        "age = 22"
      ]
    },
    {
      "cell_type": "code",
      "source": [
        "# Python is Dynamically Typed\n",
        "pi = 3.14       # float\n",
        "is_coding = True  # bool\n",
        "print(pi)\n",
        "print(is_coding)"
      ],
      "metadata": {
        "colab": {
          "base_uri": "https://localhost:8080/"
        },
        "id": "r9JcGM1pkC0l",
        "outputId": "fe21e975-3e15-4359-922e-20988c644674"
      },
      "execution_count": 2,
      "outputs": [
        {
          "output_type": "stream",
          "name": "stdout",
          "text": [
            "3.14\n",
            "True\n"
          ]
        }
      ]
    },
    {
      "cell_type": "code",
      "source": [
        "# Integer (whole number)\n",
        "x = 10          # int\n",
        "print(x)\n",
        "\n",
        "# Float (decimal number)\n",
        "pi = 3.14       # float\n",
        "print(pi)\n",
        "\n",
        "# String (text in quotes)\n",
        "greeting = \"Hello, World!\"  # str\n",
        "print(greeting)\n",
        "\n",
        "# Boolean (True/False)\n",
        "is_active = True  # bool\n",
        "print(is_active)\n",
        "\n",
        "# ✅ Good Variable Naming Practices\n",
        "user_name = \"Gayatri\"    # clear name\n",
        "print(user_name)\n",
        "total_price = 99.99      # use snake_case\n",
        "print(total_price)\n",
        "first_name = \"Alex\"\n",
        "print(first_name)\n"
      ],
      "metadata": {
        "colab": {
          "base_uri": "https://localhost:8080/"
        },
        "id": "VTfJ2jU3kIrj",
        "outputId": "b642a7e6-d3e5-42dd-b5e3-f16df39dd67c"
      },
      "execution_count": 4,
      "outputs": [
        {
          "output_type": "stream",
          "name": "stdout",
          "text": [
            "10\n",
            "3.14\n",
            "Hello, World!\n",
            "True\n",
            "Gayatri\n",
            "99.99\n",
            "Alex\n"
          ]
        }
      ]
    },
    {
      "cell_type": "code",
      "source": [
        "# ❌ Bad Naming\n",
        "a1 = 5\n",
        "             # too vague\n",
        "x = \"Gayatri\"        # unclear purpose\n",
        "#class = \"Math\"\n",
        "print(class)\n",
        "   # ❌ Don't use Python keywords (this will give an error)\n",
        "class_name = \"Math\"  # ✅ use a different name"
      ],
      "metadata": {
        "colab": {
          "base_uri": "https://localhost:8080/",
          "height": 106
        },
        "id": "1HjCUavMkjMd",
        "outputId": "072e34fb-8951-4a12-fc05-ee1308ca7529"
      },
      "execution_count": 6,
      "outputs": [
        {
          "output_type": "error",
          "ename": "SyntaxError",
          "evalue": "invalid syntax (ipython-input-3343834253.py, line 5)",
          "traceback": [
            "\u001b[0;36m  File \u001b[0;32m\"/tmp/ipython-input-3343834253.py\"\u001b[0;36m, line \u001b[0;32m5\u001b[0m\n\u001b[0;31m    class = \"Math\"\u001b[0m\n\u001b[0m          ^\u001b[0m\n\u001b[0;31mSyntaxError\u001b[0m\u001b[0;31m:\u001b[0m invalid syntax\n"
          ]
        }
      ]
    },
    {
      "cell_type": "code",
      "source": [
        "# ❌ Common Mistake 1: Mixing types (string + int)\n",
        "age = input(\"Enter your age: \")\n",
        "print(\"Next year, you will be \" + age + 1)  # ❌ This will break"
      ],
      "metadata": {
        "colab": {
          "base_uri": "https://localhost:8080/",
          "height": 193
        },
        "id": "OIAHx6J5k2Te",
        "outputId": "64f12167-fee8-45cb-bda0-7e360dfd52f2"
      },
      "execution_count": 7,
      "outputs": [
        {
          "name": "stdout",
          "output_type": "stream",
          "text": [
            "Enter your age: 12\n"
          ]
        },
        {
          "output_type": "error",
          "ename": "TypeError",
          "evalue": "can only concatenate str (not \"int\") to str",
          "traceback": [
            "\u001b[0;31m---------------------------------------------------------------------------\u001b[0m",
            "\u001b[0;31mTypeError\u001b[0m                                 Traceback (most recent call last)",
            "\u001b[0;32m/tmp/ipython-input-1788747542.py\u001b[0m in \u001b[0;36m<cell line: 0>\u001b[0;34m()\u001b[0m\n\u001b[1;32m      1\u001b[0m \u001b[0;31m# ❌ Common Mistake 1: Mixing types (string + int)\u001b[0m\u001b[0;34m\u001b[0m\u001b[0;34m\u001b[0m\u001b[0m\n\u001b[1;32m      2\u001b[0m \u001b[0mage\u001b[0m \u001b[0;34m=\u001b[0m \u001b[0minput\u001b[0m\u001b[0;34m(\u001b[0m\u001b[0;34m\"Enter your age: \"\u001b[0m\u001b[0;34m)\u001b[0m\u001b[0;34m\u001b[0m\u001b[0;34m\u001b[0m\u001b[0m\n\u001b[0;32m----> 3\u001b[0;31m \u001b[0mprint\u001b[0m\u001b[0;34m(\u001b[0m\u001b[0;34m\"Next year, you will be \"\u001b[0m \u001b[0;34m+\u001b[0m \u001b[0mage\u001b[0m \u001b[0;34m+\u001b[0m \u001b[0;36m1\u001b[0m\u001b[0;34m)\u001b[0m  \u001b[0;31m# ❌ This will break\u001b[0m\u001b[0;34m\u001b[0m\u001b[0;34m\u001b[0m\u001b[0m\n\u001b[0m",
            "\u001b[0;31mTypeError\u001b[0m: can only concatenate str (not \"int\") to str"
          ]
        }
      ]
    },
    {
      "cell_type": "code",
      "source": [
        "# ✅ Corrected version:\n",
        "age = int(age)\n",
        "print(\"Next year, you will be \" + str(age + 1))  # ✅"
      ],
      "metadata": {
        "colab": {
          "base_uri": "https://localhost:8080/"
        },
        "id": "0w_N4iTGk_cG",
        "outputId": "883a2e9b-a33a-4f00-fe3c-b8aa77f6c906"
      },
      "execution_count": 8,
      "outputs": [
        {
          "output_type": "stream",
          "name": "stdout",
          "text": [
            "Next year, you will be 13\n"
          ]
        }
      ]
    },
    {
      "cell_type": "code",
      "source": [
        "# ❌ Common Mistake 2: Wrong casing in booleans\n",
        " #is_logged_in = true  # ❌ 'true' is not defined (Python is case-sensitive)\n",
        "is_logged_in = True     # ✅"
      ],
      "metadata": {
        "colab": {
          "base_uri": "https://localhost:8080/",
          "height": 106
        },
        "id": "5dItV2OTlPMP",
        "outputId": "bd139137-75d9-48b7-8119-ef88ebddf407"
      },
      "execution_count": 10,
      "outputs": [
        {
          "output_type": "error",
          "ename": "IndentationError",
          "evalue": "unexpected indent (ipython-input-3885710719.py, line 2)",
          "traceback": [
            "\u001b[0;36m  File \u001b[0;32m\"/tmp/ipython-input-3885710719.py\"\u001b[0;36m, line \u001b[0;32m2\u001b[0m\n\u001b[0;31m    is_logged_in = true  # ❌ 'true' is not defined (Python is case-sensitive)\u001b[0m\n\u001b[0m    ^\u001b[0m\n\u001b[0;31mIndentationError\u001b[0m\u001b[0;31m:\u001b[0m unexpected indent\n"
          ]
        }
      ]
    },
    {
      "cell_type": "code",
      "source": [
        "# Swapping Variables Without a Temp Variable\n",
        "a = 5\n",
        "b = 10\n",
        "print(f\"Before swap: a = {a}, b = {b}\")\n",
        "a, b = b, a\n",
        "print(f\"After swap: a = {a}, b = {b}\")"
      ],
      "metadata": {
        "colab": {
          "base_uri": "https://localhost:8080/"
        },
        "id": "ZZ5y5aOalVML",
        "outputId": "036b46ab-f304-4123-d368-3695a69daa44"
      },
      "execution_count": 11,
      "outputs": [
        {
          "output_type": "stream",
          "name": "stdout",
          "text": [
            "Before swap: a = 5, b = 10\n",
            "After swap: a = 10, b = 5\n"
          ]
        }
      ]
    },
    {
      "cell_type": "code",
      "source": [
        "\n",
        "# Type Checking\n",
        "num = 7.0\n",
        "print(type(num))  # <class 'float'>"
      ],
      "metadata": {
        "colab": {
          "base_uri": "https://localhost:8080/"
        },
        "id": "gEcbheihleYC",
        "outputId": "39917eb0-7ad3-401e-f2f9-5cfa81f66190"
      },
      "execution_count": 12,
      "outputs": [
        {
          "output_type": "stream",
          "name": "stdout",
          "text": [
            "<class 'float'>\n"
          ]
        }
      ]
    },
    {
      "cell_type": "code",
      "source": [
        "#Using None as a placeholder\n",
        "result = None\n",
        "some_condition = True\n",
        "if some_condition:\n",
        "    result = 42\n",
        "\n",
        "print(f\"Result is: {result}\")\n",
        "print(type(result))  # <class 'int'> if condition met, else <class 'NoneType'>\n"
      ],
      "metadata": {
        "colab": {
          "base_uri": "https://localhost:8080/"
        },
        "id": "sZcfiCVxljxM",
        "outputId": "61ca5d68-b22d-4bda-db41-7bb9a4791d95"
      },
      "execution_count": 14,
      "outputs": [
        {
          "output_type": "stream",
          "name": "stdout",
          "text": [
            "Result is: 42\n",
            "<class 'int'>\n"
          ]
        }
      ]
    },
    {
      "cell_type": "code",
      "source": [
        "#Fix the Messy Desk! (Variable Swapping Challenge) Solution\n",
        "\n",
        "# Initial values\n",
        "pens = \"notebooks\"\n",
        "notebooks = \"pens\"\n",
        "\n",
        "print(pens)\n",
        "print(notebooks)"
      ],
      "metadata": {
        "colab": {
          "base_uri": "https://localhost:8080/"
        },
        "id": "Ze6FOf57nPsZ",
        "outputId": "577420ff-7050-4e62-e75a-1c15a3c95d0f"
      },
      "execution_count": 15,
      "outputs": [
        {
          "output_type": "stream",
          "name": "stdout",
          "text": [
            "notebooks\n",
            "pens\n"
          ]
        }
      ]
    },
    {
      "cell_type": "code",
      "source": [
        "# Print before swap\n",
        "print(\"Before swap:\")\n",
        "print(f\"The pens are in the '{pens}' pile and notebooks are in the '{notebooks}' pile.\")\n"
      ],
      "metadata": {
        "colab": {
          "base_uri": "https://localhost:8080/"
        },
        "id": "i4Gf_9BHng_J",
        "outputId": "a8cd861c-b78d-483a-f309-f6fa08f7ef01"
      },
      "execution_count": 16,
      "outputs": [
        {
          "output_type": "stream",
          "name": "stdout",
          "text": [
            "Before swap:\n",
            "The pens are in the 'notebooks' pile and notebooks are in the 'pens' pile.\n"
          ]
        }
      ]
    },
    {
      "cell_type": "code",
      "source": [
        "# Swap the values\n",
        "pens, notebooks = notebooks, pens\n",
        "\n",
        "# Print after swap\n",
        "print(\"\\nAfter swap:\")\n",
        "print(f\"The pens are in the '{pens}' pile and notebooks are in the '{notebooks}' pile.\")\n"
      ],
      "metadata": {
        "colab": {
          "base_uri": "https://localhost:8080/"
        },
        "id": "h9uOYUF9nkpi",
        "outputId": "a5156a41-36cd-434f-a1f7-264b81054cc4"
      },
      "execution_count": 17,
      "outputs": [
        {
          "output_type": "stream",
          "name": "stdout",
          "text": [
            "\n",
            "After swap:\n",
            "The pens are in the 'pens' pile and notebooks are in the 'notebooks' pile.\n"
          ]
        }
      ]
    }
  ]
}